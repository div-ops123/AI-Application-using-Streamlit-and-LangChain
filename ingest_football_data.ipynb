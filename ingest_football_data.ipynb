{
 "cells": [
  {
   "cell_type": "code",
   "execution_count": 1,
   "id": "6e91701c",
   "metadata": {},
   "outputs": [],
   "source": [
    "import pandas as pd\n",
    "import toml\n",
    "from neo4j import GraphDatabase\n",
    "from tqdm import tqdm\n",
    "# import logging # introduce logging later when exporting this to .py or deploying\n",
    "\n",
    "# # Set up logging\n",
    "# logging.basicConfig(level=logging.INFO)\n",
    "# logger = logging.getLogger(__name__)\n",
    "\n"
   ]
  },
  {
   "cell_type": "markdown",
   "id": "0e498d5d",
   "metadata": {},
   "source": [
    "## Phase 1: Load and Inspect CSVs"
   ]
  },
  {
   "cell_type": "code",
   "execution_count": 2,
   "id": "e1526d19",
   "metadata": {},
   "outputs": [
    {
     "data": {
      "text/html": [
       "<div>\n",
       "<style scoped>\n",
       "    .dataframe tbody tr th:only-of-type {\n",
       "        vertical-align: middle;\n",
       "    }\n",
       "\n",
       "    .dataframe tbody tr th {\n",
       "        vertical-align: top;\n",
       "    }\n",
       "\n",
       "    .dataframe thead th {\n",
       "        text-align: right;\n",
       "    }\n",
       "</style>\n",
       "<table border=\"1\" class=\"dataframe\">\n",
       "  <thead>\n",
       "    <tr style=\"text-align: right;\">\n",
       "      <th></th>\n",
       "      <th>date</th>\n",
       "      <th>home_team</th>\n",
       "      <th>away_team</th>\n",
       "      <th>home_score</th>\n",
       "      <th>away_score</th>\n",
       "      <th>tournament</th>\n",
       "      <th>city</th>\n",
       "      <th>country</th>\n",
       "      <th>neutral</th>\n",
       "    </tr>\n",
       "  </thead>\n",
       "  <tbody>\n",
       "    <tr>\n",
       "      <th>0</th>\n",
       "      <td>1872-11-30</td>\n",
       "      <td>Scotland</td>\n",
       "      <td>England</td>\n",
       "      <td>0</td>\n",
       "      <td>0</td>\n",
       "      <td>Friendly</td>\n",
       "      <td>Glasgow</td>\n",
       "      <td>Scotland</td>\n",
       "      <td>False</td>\n",
       "    </tr>\n",
       "    <tr>\n",
       "      <th>1</th>\n",
       "      <td>1873-03-08</td>\n",
       "      <td>England</td>\n",
       "      <td>Scotland</td>\n",
       "      <td>4</td>\n",
       "      <td>2</td>\n",
       "      <td>Friendly</td>\n",
       "      <td>London</td>\n",
       "      <td>England</td>\n",
       "      <td>False</td>\n",
       "    </tr>\n",
       "    <tr>\n",
       "      <th>2</th>\n",
       "      <td>1874-03-07</td>\n",
       "      <td>Scotland</td>\n",
       "      <td>England</td>\n",
       "      <td>2</td>\n",
       "      <td>1</td>\n",
       "      <td>Friendly</td>\n",
       "      <td>Glasgow</td>\n",
       "      <td>Scotland</td>\n",
       "      <td>False</td>\n",
       "    </tr>\n",
       "    <tr>\n",
       "      <th>3</th>\n",
       "      <td>1875-03-06</td>\n",
       "      <td>England</td>\n",
       "      <td>Scotland</td>\n",
       "      <td>2</td>\n",
       "      <td>2</td>\n",
       "      <td>Friendly</td>\n",
       "      <td>London</td>\n",
       "      <td>England</td>\n",
       "      <td>False</td>\n",
       "    </tr>\n",
       "    <tr>\n",
       "      <th>4</th>\n",
       "      <td>1876-03-04</td>\n",
       "      <td>Scotland</td>\n",
       "      <td>England</td>\n",
       "      <td>3</td>\n",
       "      <td>0</td>\n",
       "      <td>Friendly</td>\n",
       "      <td>Glasgow</td>\n",
       "      <td>Scotland</td>\n",
       "      <td>False</td>\n",
       "    </tr>\n",
       "  </tbody>\n",
       "</table>\n",
       "</div>"
      ],
      "text/plain": [
       "        date home_team away_team  home_score  away_score tournament     city  \\\n",
       "0 1872-11-30  Scotland   England           0           0   Friendly  Glasgow   \n",
       "1 1873-03-08   England  Scotland           4           2   Friendly   London   \n",
       "2 1874-03-07  Scotland   England           2           1   Friendly  Glasgow   \n",
       "3 1875-03-06   England  Scotland           2           2   Friendly   London   \n",
       "4 1876-03-04  Scotland   England           3           0   Friendly  Glasgow   \n",
       "\n",
       "    country  neutral  \n",
       "0  Scotland    False  \n",
       "1   England    False  \n",
       "2  Scotland    False  \n",
       "3   England    False  \n",
       "4  Scotland    False  "
      ]
     },
     "execution_count": 2,
     "metadata": {},
     "output_type": "execute_result"
    }
   ],
   "source": [
    "\n",
    "# CSV file paths\n",
    "results_csv_path = \"data/results.csv\"\n",
    "goalscorers_csv_path = \"data/goalscorers.csv\"\n",
    "shootouts_csv_path = \"data/shootouts.csv\"\n",
    "\n",
    "# logger.info(\"Loading data...\")\n",
    "results_df = pd.read_csv(results_csv_path, parse_dates=[\"date\"])\n",
    "goalscorers_df = pd.read_csv(goalscorers_csv_path, parse_dates=[\"date\"])\n",
    "shootouts_df = pd.read_csv(shootouts_csv_path, parse_dates=[\"date\"])\n",
    "\n",
    "\n",
    "results_df.head()"
   ]
  },
  {
   "cell_type": "markdown",
   "id": "8d91cc8b",
   "metadata": {},
   "source": [
    "## Phase 2: Connect to AuraDB with Neo4j Python Driver"
   ]
  },
  {
   "cell_type": "code",
   "execution_count": 3,
   "id": "50422713",
   "metadata": {},
   "outputs": [
    {
     "name": "stdout",
     "output_type": "stream",
     "text": [
      "Connected to AuraDB\n"
     ]
    }
   ],
   "source": [
    "\n",
    "# Read secrets\n",
    "secrets = toml.load(\".streamlit/secrets.toml\")\n",
    "\n",
    "NEO4J_URI = secrets[\"NEO4J_URI\"]\n",
    "NEO4J_USER = secrets[\"NEO4J_USER\"]\n",
    "NEO4J_PASSWORD = secrets[\"NEO4J_PASSWORD\"]\n",
    "\n",
    "# Connect to Neo4j\n",
    "driver = GraphDatabase.driver(uri=NEO4J_URI, auth=(NEO4J_USER, NEO4J_PASSWORD))\n",
    "print(\"Connected to AuraDB\")"
   ]
  },
  {
   "cell_type": "code",
   "execution_count": 4,
   "id": "e189484f",
   "metadata": {},
   "outputs": [
    {
     "name": "stdout",
     "output_type": "stream",
     "text": [
      "Neo4j is ready!\n"
     ]
    }
   ],
   "source": [
    "# Testing\n",
    "with driver.session() as session:\n",
    "    result = session.run(\"RETURN 'Neo4j is ready!' AS message\")\n",
    "    print(result.single()[\"message\"])\n"
   ]
  },
  {
   "cell_type": "code",
   "execution_count": 5,
   "id": "e8526653",
   "metadata": {},
   "outputs": [
    {
     "name": "stdout",
     "output_type": "stream",
     "text": [
      "(48366, 9)\n",
      "(44447, 8)\n",
      "(650, 5)\n"
     ]
    }
   ],
   "source": [
    "print(results_df.shape)\n",
    "print(goalscorers_df.shape)\n",
    "print(shootouts_df.shape)"
   ]
  },
  {
   "cell_type": "markdown",
   "id": "75ac1f30",
   "metadata": {},
   "source": [
    "## Phase 3: Design Your Graph Schema (Nodes + Relationships)\n",
    "\n",
    "## 🧱 Graph Schema:\n",
    "\n",
    "#### 🟦 Nodes\n",
    "\n",
    "* `(:Team {name})`\n",
    "* `(:Player {name})`\n",
    "* `(:Match {date, home_score, away_score, tournament, city, country, neutral})`\n",
    "\n",
    "#### 🔗 Relationships\n",
    "\n",
    "* `(Team)-[:PLAYED_HOME]->(Match)`\n",
    "* `(Team)-[:PLAYED_AWAY]->(Match)`\n",
    "* `(Player)-[:SCORED_IN {minute, own_goal, penalty}]->(Match)`\n",
    "* `(Player)-[:SCORED_FOR]->(Team)`\n",
    "* `(Team)-[:WON_SHOOTOUT]->(Match)`\n",
    "* `(Team)-[:FIRST_SHOOTER_IN]->(Match)`"
   ]
  },
  {
   "cell_type": "markdown",
   "id": "a7688afc",
   "metadata": {},
   "source": [
    "## Phase 4: Ingest results.csv (Teams + Matches + Relationships)\n"
   ]
  },
  {
   "cell_type": "code",
   "execution_count": 6,
   "id": "797bfaf8",
   "metadata": {},
   "outputs": [
    {
     "name": "stdout",
     "output_type": "stream",
     "text": [
      "Total number of unique teams: 332\n"
     ]
    }
   ],
   "source": [
    "# Step 1: Create Unique :Team Nodes\n",
    "\n",
    "# Get all team names from both home and away columns\n",
    "home_teams = results_df[\"home_team\"].unique()\n",
    "away_teams = results_df[\"away_team\"].unique()\n",
    "all_teams = set(home_teams).union(set(away_teams))\n",
    "\n",
    "total_teams = len(all_teams)\n",
    "print(f\"Total number of unique teams: {total_teams}\")"
   ]
  },
  {
   "cell_type": "code",
   "execution_count": 7,
   "id": "9085f513",
   "metadata": {},
   "outputs": [],
   "source": [
    "# define a Cypher query method to merge (create if not exists) the team nodes:\n",
    "\n",
    "def create_teams(driver, team_names):\n",
    "    \"\"\"\n",
    "    Create or ensure the existence of unique Team nodes in the Neo4j graph.\n",
    "\n",
    "    This function receives a list of team names and uses a Cypher query\n",
    "    with UNWIND and MERGE to insert each name as a :Team node in the database.\n",
    "    Duplicate nodes are avoided automatically via MERGE.\n",
    "\n",
    "    Args:\n",
    "        driver (neo4j.GraphDatabase.driver): The active Neo4j driver instance.\n",
    "        team_names (Iterable[str]): A list or set of unique team names.\n",
    "\n",
    "    Returns:\n",
    "        None. Prints a success message upon completion.\n",
    "    \"\"\"\n",
    "    query = \"UNWIND $teams AS team_name MERGE (:Team {name: team_name})\"\n",
    "    with driver.session() as session:\n",
    "        session.run(query, teams=list(team_names))\n",
    "    print(f\"✅ Created {len(team_names)} Team nodes\")\n"
   ]
  },
  {
   "cell_type": "code",
   "execution_count": 8,
   "id": "eeee1d6d",
   "metadata": {},
   "outputs": [
    {
     "name": "stdout",
     "output_type": "stream",
     "text": [
      "✅ Created 332 Team nodes\n"
     ]
    }
   ],
   "source": [
    "create_teams(driver=driver, team_names=all_teams)"
   ]
  },
  {
   "cell_type": "code",
   "execution_count": 9,
   "id": "f6b03910",
   "metadata": {},
   "outputs": [],
   "source": [
    "def chunk_list(data, chunk_size):\n",
    "    \"\"\"\n",
    "    Yield successive chunks from a list.\n",
    "\n",
    "    This function splits a list into smaller lists (batches) of a specified size,\n",
    "    which is useful for batch operations like database writes or API calls.\n",
    "\n",
    "    Args:\n",
    "        data (List[Any]): The full list to be chunked.\n",
    "        chunk_size (int): The number of items per chunk.\n",
    "\n",
    "    Yields:\n",
    "        List[Any]: A sublist (chunk) of the original list.\n",
    "    \"\"\"\n",
    "    for i in range(0, len(data), chunk_size):\n",
    "        yield data[i:i + chunk_size]\n"
   ]
  },
  {
   "cell_type": "code",
   "execution_count": 10,
   "id": "67f96cdf",
   "metadata": {},
   "outputs": [],
   "source": [
    "def prepare_match_rows(df):\n",
    "    \"\"\"\n",
    "    Convert a match DataFrame into a list of dictionary records for Cypher ingestion.\n",
    "\n",
    "    Each row is converted into a Python dictionary with cleaned and typed values,\n",
    "    including converting dates to string format for Neo4j compatibility.\n",
    "\n",
    "    Args:\n",
    "        df (pd.DataFrame): The input DataFrame from results.csv with parsed dates.\n",
    "\n",
    "    Returns:\n",
    "        List[Dict[str, Any]]: A list of match dictionaries ready for batch Cypher upload.\n",
    "    \"\"\"\n",
    "    match_rows = []\n",
    "    for _, row in df.iterrows():\n",
    "        match = {\n",
    "            \"date\": row[\"date\"].strftime(\"%Y-%m-%d\"),\n",
    "            \"home_team\": row[\"home_team\"],\n",
    "            \"away_team\": row[\"away_team\"],\n",
    "            \"home_score\": int(row[\"home_score\"]),\n",
    "            \"away_score\": int(row[\"away_score\"]),\n",
    "            \"tournament\": row[\"tournament\"],\n",
    "            \"city\": row[\"city\"],\n",
    "            \"country\": row[\"country\"],\n",
    "            \"neutral\": bool(row[\"neutral\"])\n",
    "        }\n",
    "        match_rows.append(match)\n",
    "    return match_rows\n"
   ]
  },
  {
   "cell_type": "code",
   "execution_count": 11,
   "id": "e313fc7d",
   "metadata": {},
   "outputs": [],
   "source": [
    "# Step 2: Create :Match Nodes + Connect Teams\n",
    "# Let’s now go row-by-row in results_df and create matches and relationships.\n",
    "\n",
    "\n",
    "def create_matches(driver, match_rows, batch_size=500):\n",
    "    \"\"\"\n",
    "    Batch-ingest Match nodes and their team relationships into Neo4j.\n",
    "\n",
    "    For each match in the batch, this function:\n",
    "    - Creates home and away Team nodes (if they don't exist)\n",
    "    - Creates a Match node with key and detailed properties\n",
    "    - Connects each team to the match using PLAYED_HOME / PLAYED_AWAY\n",
    "\n",
    "    Args:\n",
    "        driver: Neo4j GraphDatabase driver\n",
    "        match_rows: list of dicts containing match data\n",
    "        batch_size: number of matches per Cypher query\n",
    "    \"\"\"\n",
    "    query = \"\"\"\n",
    "    UNWIND $batch AS row\n",
    "    MERGE (home:Team {name: row.home_team})\n",
    "    MERGE (away:Team {name: row.away_team})\n",
    "    MERGE (m:Match {\n",
    "        date: row.date,\n",
    "        home_team: row.home_team,\n",
    "        away_team: row.away_team\n",
    "    })\n",
    "    SET m.home_score = row.home_score,\n",
    "        m.away_score = row.away_score,\n",
    "        m.tournament = row.tournament,\n",
    "        m.city = row.city,\n",
    "        m.country = row.country,\n",
    "        m.neutral = row.neutral\n",
    "    MERGE (home)-[:PLAYED_HOME]->(m)\n",
    "    MERGE (away)-[:PLAYED_AWAY]->(m)\n",
    "    \"\"\"\n",
    "    with driver.session() as session:\n",
    "        for batch in tqdm(chunk_list(match_rows, batch_size), total=len(match_rows)//batch_size + 1):\n",
    "            session.run(query, batch=batch)\n",
    "    print(f\"✅ Ingested {len(match_rows)} Matches using batch size {batch_size}\")"
   ]
  },
  {
   "cell_type": "code",
   "execution_count": 12,
   "id": "82da1100",
   "metadata": {},
   "outputs": [
    {
     "name": "stderr",
     "output_type": "stream",
     "text": [
      "100%|██████████| 97/97 [13:13<00:00,  8.18s/it]"
     ]
    },
    {
     "name": "stdout",
     "output_type": "stream",
     "text": [
      "✅ Ingested 48366 Matches using batch size 500\n"
     ]
    },
    {
     "name": "stderr",
     "output_type": "stream",
     "text": [
      "\n"
     ]
    }
   ],
   "source": [
    "match_rows = prepare_match_rows(results_df)   # Step 1\n",
    "create_matches(driver, match_rows)            # Step 2\n"
   ]
  },
  {
   "cell_type": "markdown",
   "id": "6ab90939",
   "metadata": {},
   "source": [
    "## Phase 5: Ingest goalscorers.csv → create Player nodes + SCORED_IN + SCORED_FOR\n"
   ]
  },
  {
   "cell_type": "code",
   "execution_count": 21,
   "id": "e15de8c9",
   "metadata": {},
   "outputs": [],
   "source": [
    "def prepare_goal_rows(df):\n",
    "    \"\"\"\n",
    "    Prepare a clean, safe list of goal dicts from the goalscorers DataFrame.\n",
    "\n",
    "    Filters out rows with missing critical fields (scorer, team, match identifiers).\n",
    "    Safely handles optional fields with default values.\n",
    "\n",
    "    Args:\n",
    "        df (pd.DataFrame): The goalscorers DataFrame with parsed dates.\n",
    "\n",
    "    Returns:\n",
    "        List[Dict[str, Any]]: Cleaned list of goal records.\n",
    "    \"\"\"\n",
    "    goal_rows = []\n",
    "\n",
    "    for _, row in df.iterrows():\n",
    "        # Validate required fields\n",
    "        if pd.isna(row[\"scorer\"]) or pd.isna(row[\"team\"]) or pd.isna(row[\"home_team\"]) or pd.isna(row[\"away_team\"]):\n",
    "            continue  # Skip rows with missing critical fields\n",
    "\n",
    "        match = {\n",
    "            \"date\": row[\"date\"].strftime(\"%Y-%m-%d\") if pd.notna(row[\"date\"]) else None,\n",
    "            \"home_team\": row[\"home_team\"],\n",
    "            \"away_team\": row[\"away_team\"],\n",
    "            \"team\": row[\"team\"],\n",
    "            \"scorer\": row[\"scorer\"],\n",
    "            \"minute\": int(row[\"minute\"]) if pd.notna(row[\"minute\"]) else -1,\n",
    "            \"own_goal\": bool(row[\"own_goal\"]) if pd.notna(row[\"own_goal\"]) else False,\n",
    "            \"penalty\": bool(row[\"penalty\"]) if pd.notna(row[\"penalty\"]) else False\n",
    "        }\n",
    "\n",
    "        # Avoid adding rows with missing match keys\n",
    "        if not match[\"date\"] or not match[\"home_team\"] or not match[\"away_team\"]:\n",
    "            continue\n",
    "\n",
    "        goal_rows.append(match)\n",
    "\n",
    "    return goal_rows\n"
   ]
  },
  {
   "cell_type": "code",
   "execution_count": 19,
   "id": "ee1a33fa",
   "metadata": {},
   "outputs": [],
   "source": [
    "\n",
    "def create_goals(driver, goal_rows, batch_size=500):\n",
    "    \"\"\"\n",
    "    Batch-ingest Player nodes and connect them to Match and Team nodes.\n",
    "\n",
    "    For each goal:\n",
    "    - Creates a Player node (if not exists)\n",
    "    - Finds the corresponding Match node (by date + teams)\n",
    "    - Connects Player to Match with SCORED_IN (adds minute, own_goal, penalty)\n",
    "    - Connects Player to Team with SCORED_FOR\n",
    "\n",
    "    Args:\n",
    "        driver: Neo4j driver instance\n",
    "        goal_rows: List of goal dictionaries (from prepare_goal_rows)\n",
    "        batch_size: Number of goals per transaction batch\n",
    "\n",
    "    Returns:\n",
    "        None. Prints success summary after ingestion.\n",
    "    \"\"\"\n",
    "    query = \"\"\"\n",
    "    UNWIND $batch AS row\n",
    "    MERGE (p:Player {name: row.scorer})\n",
    "    MERGE (t:Team {name: row.team})\n",
    "    WITH p, t, row\n",
    "    MATCH (m:Match {\n",
    "        date: row.date,\n",
    "        home_team: row.home_team,\n",
    "        away_team: row.away_team\n",
    "    })\n",
    "    MERGE (p)-[:SCORED_IN {\n",
    "        minute: row.minute,\n",
    "        own_goal: row.own_goal,\n",
    "        penalty: row.penalty\n",
    "    }]->(m)\n",
    "    MERGE (p)-[:SCORED_FOR]->(t)\n",
    "    \"\"\"\n",
    "\n",
    "\n",
    "    with driver.session() as session:\n",
    "        for batch in tqdm(chunk_list(goal_rows, batch_size), total=len(goal_rows)//batch_size + 1):\n",
    "            session.run(query, batch=batch)\n",
    "    print(f\"✅ Ingested {len(goal_rows)} goals using batch size {batch_size}\")\n"
   ]
  },
  {
   "cell_type": "code",
   "execution_count": 22,
   "id": "22815afd",
   "metadata": {},
   "outputs": [
    {
     "name": "stderr",
     "output_type": "stream",
     "text": [
      "100%|██████████| 89/89 [27:22<00:00, 18.45s/it]"
     ]
    },
    {
     "name": "stdout",
     "output_type": "stream",
     "text": [
      "✅ Ingested 44399 goals using batch size 500\n"
     ]
    },
    {
     "name": "stderr",
     "output_type": "stream",
     "text": [
      "\n"
     ]
    }
   ],
   "source": [
    "goal_rows = prepare_goal_rows(goalscorers_df)\n",
    "create_goals(driver, goal_rows)\n"
   ]
  },
  {
   "cell_type": "markdown",
   "id": "80889c91",
   "metadata": {},
   "source": [
    "## Phase 6: Ingest shootouts.csv → model penalty shootout winners."
   ]
  },
  {
   "cell_type": "code",
   "execution_count": 23,
   "id": "d8f13456",
   "metadata": {},
   "outputs": [
    {
     "data": {
      "text/plain": [
       "Index(['date', 'home_team', 'away_team', 'winner', 'first_shooter'], dtype='object')"
      ]
     },
     "execution_count": 23,
     "metadata": {},
     "output_type": "execute_result"
    }
   ],
   "source": [
    "shootouts_df.columns"
   ]
  },
  {
   "cell_type": "code",
   "execution_count": 24,
   "id": "ee316424",
   "metadata": {},
   "outputs": [],
   "source": [
    "def prepare_shootout_rows(df):\n",
    "    \"\"\"\n",
    "    Prepare a list of clean dictionaries from the shootouts DataFrame.\n",
    "\n",
    "    Each row captures the shootout outcome for a given match:\n",
    "    - The team that won the shootout\n",
    "    - The team that kicked first\n",
    "\n",
    "    Args:\n",
    "        df (pd.DataFrame): The shootouts DataFrame with parsed dates.\n",
    "\n",
    "    Returns:\n",
    "        List[Dict[str, Any]]: Cleaned and filtered shootout records.\n",
    "    \"\"\"\n",
    "    rows = []\n",
    "    for _, row in df.iterrows():\n",
    "        # Skip if any critical field is missing\n",
    "        if pd.isna(row[\"date\"]) or pd.isna(row[\"home_team\"]) or pd.isna(row[\"away_team\"]):\n",
    "            continue\n",
    "\n",
    "        shootout = {\n",
    "            \"date\": row[\"date\"].strftime(\"%Y-%m-%d\"),\n",
    "            \"home_team\": row[\"home_team\"],\n",
    "            \"away_team\": row[\"away_team\"],\n",
    "            \"winner\": row[\"winner\"] if pd.notna(row[\"winner\"]) else None,\n",
    "            \"first_shooter\": row[\"first_shooter\"] if pd.notna(row[\"first_shooter\"]) else None\n",
    "        }\n",
    "\n",
    "        rows.append(shootout)\n",
    "    return rows\n"
   ]
  },
  {
   "cell_type": "code",
   "execution_count": 27,
   "id": "128713e5",
   "metadata": {},
   "outputs": [],
   "source": [
    "\n",
    "def create_shootouts(driver, shootout_rows, batch_size=500):\n",
    "    \"\"\"\n",
    "    Add shootout relationships to existing matches in the graph.\n",
    "\n",
    "    For each row:\n",
    "    - Finds the correct Match node (date, home, away)\n",
    "    - Connects the winning team with a :WON_SHOOTOUT relationship\n",
    "    - Connects the first-kicking team with :FIRST_SHOOTER_IN\n",
    "\n",
    "    Args:\n",
    "        driver: Neo4j driver instance\n",
    "        shootout_rows: List of cleaned shootout dicts\n",
    "        batch_size: Max rows per Cypher batch\n",
    "\n",
    "    Returns:\n",
    "        None\n",
    "    \"\"\"\n",
    "    query = \"\"\"\n",
    "    UNWIND $batch AS row\n",
    "    MATCH (m:Match {\n",
    "        date: row.date,\n",
    "        home_team: row.home_team,\n",
    "        away_team: row.away_team\n",
    "    })\n",
    "\n",
    "    OPTIONAL MATCH (winner:Team {name: row.winner})\n",
    "    FOREACH (_ IN CASE WHEN winner IS NOT NULL THEN [1] ELSE [] END |\n",
    "        MERGE (winner)-[:WON_SHOOTOUT]->(m)\n",
    "    )\n",
    "\n",
    "    WITH m, row\n",
    "\n",
    "    OPTIONAL MATCH (first:Team {name: row.first_shooter})\n",
    "    FOREACH (_ IN CASE WHEN first IS NOT NULL THEN [1] ELSE [] END |\n",
    "        MERGE (first)-[:FIRST_SHOOTER_IN]->(m)\n",
    "    )\n",
    "    \"\"\"\n",
    "\n",
    "\n",
    "    with driver.session() as session:\n",
    "        for batch in tqdm(chunk_list(shootout_rows, batch_size), total=len(shootout_rows)//batch_size + 1):\n",
    "            session.run(query, batch=batch)\n",
    "    print(f\"✅ Ingested {len(shootout_rows)} shootout records using batch size {batch_size}\")\n"
   ]
  },
  {
   "cell_type": "code",
   "execution_count": 28,
   "id": "1782e70a",
   "metadata": {},
   "outputs": [
    {
     "name": "stderr",
     "output_type": "stream",
     "text": [
      "100%|██████████| 2/2 [00:22<00:00, 11.32s/it]"
     ]
    },
    {
     "name": "stdout",
     "output_type": "stream",
     "text": [
      "✅ Ingested 650 shootout records using batch size 500\n"
     ]
    },
    {
     "name": "stderr",
     "output_type": "stream",
     "text": [
      "\n"
     ]
    }
   ],
   "source": [
    "shootout_rows = prepare_shootout_rows(shootouts_df)\n",
    "create_shootouts(driver, shootout_rows)\n"
   ]
  },
  {
   "cell_type": "code",
   "execution_count": null,
   "id": "c0fd3cf4",
   "metadata": {},
   "outputs": [],
   "source": []
  }
 ],
 "metadata": {
  "kernelspec": {
   "display_name": "Python 3",
   "language": "python",
   "name": "python3"
  },
  "language_info": {
   "codemirror_mode": {
    "name": "ipython",
    "version": 3
   },
   "file_extension": ".py",
   "mimetype": "text/x-python",
   "name": "python",
   "nbconvert_exporter": "python",
   "pygments_lexer": "ipython3",
   "version": "3.11.0"
  }
 },
 "nbformat": 4,
 "nbformat_minor": 5
}
